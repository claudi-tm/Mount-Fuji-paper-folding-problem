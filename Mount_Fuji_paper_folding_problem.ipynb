{
  "nbformat": 4,
  "nbformat_minor": 0,
  "metadata": {
    "colab": {
      "provenance": [],
      "authorship_tag": "ABX9TyNmrQyTjX3Zbo+hHsvxK081",
      "include_colab_link": true
    },
    "kernelspec": {
      "name": "python3",
      "display_name": "Python 3"
    },
    "language_info": {
      "name": "python"
    }
  },
  "cells": [
    {
      "cell_type": "markdown",
      "metadata": {
        "id": "view-in-github",
        "colab_type": "text"
      },
      "source": [
        "<a href=\"https://colab.research.google.com/github/claudi-tm/Mount-Fuji-paper-folding-problem/blob/main/Mount_Fuji_paper_folding_problem.ipynb\" target=\"_parent\"><img src=\"https://colab.research.google.com/assets/colab-badge.svg\" alt=\"Open In Colab\"/></a>"
      ]
    },
    {
      "cell_type": "markdown",
      "source": [],
      "metadata": {
        "id": "ISSh2BhaYNT9"
      }
    },
    {
      "cell_type": "markdown",
      "source": [
        "#Problem 1\n",
        "To achieve the solution was necessary to"
      ],
      "metadata": {
        "id": "AnWAgdITYVsy"
      }
    },
    {
      "cell_type": "code",
      "execution_count": 6,
      "metadata": {
        "colab": {
          "base_uri": "https://localhost:8080/"
        },
        "id": "bOsHjCt2Vz06",
        "outputId": "f136b911-90d1-4fdd-cd78-e7d021bfaac9"
      },
      "outputs": [
        {
          "output_type": "stream",
          "name": "stdout",
          "text": [
            "The paper have to be folded 26 times to pass the height of mount Fuji\n"
          ]
        }
      ],
      "source": [
        "\n",
        "def calculateNumberOfTimes():\n",
        "  fuji = 3776\n",
        "  THICKNESS = 0.00008\n",
        "  times = 0\n",
        "  final_thickness = 0\n",
        "  while final_thickness <= fuji:\n",
        "    times += 1\n",
        "    final_thickness = THICKNESS * 2 ** times\n",
        "  return times\n",
        "\n",
        "print(f\"The paper have to be folded {calculateNumberOfTimes()} times to pass the height of mount Fuji\")"
      ]
    },
    {
      "cell_type": "markdown",
      "source": [
        "#Problem 2"
      ],
      "metadata": {
        "id": "JRk5N_hCg-oN"
      }
    },
    {
      "cell_type": "code",
      "source": [
        "def calculateNumberOfTimes(distance):\n",
        "  THICKNESS = 0.00008\n",
        "  times = 0\n",
        "  final_thickness = 0\n",
        "  while final_thickness <= distance:\n",
        "    times += 1\n",
        "    final_thickness = THICKNESS * (2 ** times)\n",
        "  return times\n",
        "\n",
        "height_of_choice = 4.0175**16\n",
        "print(f\"The paper have to be folded {calculateNumberOfTimes(height_of_choice)} times to pass {height_of_choice}\")"
      ],
      "metadata": {
        "colab": {
          "base_uri": "https://localhost:8080/"
        },
        "id": "GWX3ThvmgPq6",
        "outputId": "4a259898-75d4-4c58-9004-22a9814d3fb8"
      },
      "execution_count": 7,
      "outputs": [
        {
          "output_type": "stream",
          "name": "stdout",
          "text": [
            "The paper have to be folded 46 times to pass 4605684314.323973\n"
          ]
        }
      ]
    },
    {
      "cell_type": "markdown",
      "source": [
        "#Problem 3\n"
      ],
      "metadata": {
        "id": "k6OsqWYTJ1Ub"
      }
    },
    {
      "cell_type": "code",
      "source": [
        "import math\n",
        "def papelLength(distance):\n",
        "  THICKNESS = 0.00008\n",
        "  n = calculateNumberOfTimes(distance)\n",
        "  return (math.pi*THICKNESS * (2 ** n) / 6) * (2 ** n + 4) * (2 ** n - 1)\n",
        "print(f\"The lenght the paper needs to reach the moon is {papelLength(384400000)}\")"
      ],
      "metadata": {
        "colab": {
          "base_uri": "https://localhost:8080/"
        },
        "id": "BRtHx2tpJ4aS",
        "outputId": "b7a4504d-bd4d-4ed7-9301-2828ee912819"
      },
      "execution_count": 8,
      "outputs": [
        {
          "output_type": "stream",
          "name": "stdout",
          "text": [
            "The lenght the paper needs to reach the moon is 2.850742890840884e+34\n"
          ]
        }
      ]
    }
  ]
}